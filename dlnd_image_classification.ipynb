{
 "cells": [
  {
   "cell_type": "markdown",
   "metadata": {
    "collapsed": true
   },
   "source": [
    "# Image Classification\n",
    "In this project, you'll classify images from the [CIFAR-10 dataset](https://www.cs.toronto.edu/~kriz/cifar.html).  The dataset consists of airplanes, dogs, cats, and other objects. You'll preprocess the images, then train a convolutional neural network on all the samples. The images need to be normalized and the labels need to be one-hot encoded.  You'll get to apply what you learned and build a convolutional, max pooling, dropout, and fully connected layers.  At the end, you'll get to see your neural network's predictions on the sample images.\n",
    "## Get the Data\n",
    "Run the following cell to download the [CIFAR-10 dataset for python](https://www.cs.toronto.edu/~kriz/cifar-10-python.tar.gz)."
   ]
  },
  {
   "cell_type": "code",
   "execution_count": 2,
   "metadata": {},
   "outputs": [
    {
     "name": "stderr",
     "output_type": "stream",
     "text": [
      "CIFAR-10 Dataset: 171MB [00:33, 5.14MB/s]                                                                              \n"
     ]
    },
    {
     "name": "stdout",
     "output_type": "stream",
     "text": [
      "All files found!\n"
     ]
    }
   ],
   "source": [
    "\"\"\"\n",
    "DON'T MODIFY ANYTHING IN THIS CELL THAT IS BELOW THIS LINE\n",
    "\"\"\"\n",
    "from urllib.request import urlretrieve\n",
    "from os.path import isfile, isdir\n",
    "from tqdm import tqdm\n",
    "import problem_unittests as tests\n",
    "import tarfile\n",
    "\n",
    "cifar10_dataset_folder_path = 'cifar-10-batches-py'\n",
    "\n",
    "# Use Floyd's cifar-10 dataset if present\n",
    "floyd_cifar10_location = '/cifar/cifar-10-python.tar.gz'\n",
    "if isfile(floyd_cifar10_location):\n",
    "    tar_gz_path = floyd_cifar10_location\n",
    "else:\n",
    "    tar_gz_path = 'cifar-10-python.tar.gz'\n",
    "\n",
    "class DLProgress(tqdm):\n",
    "    last_block = 0\n",
    "\n",
    "    def hook(self, block_num=1, block_size=1, total_size=None):\n",
    "        self.total = total_size\n",
    "        self.update((block_num - self.last_block) * block_size)\n",
    "        self.last_block = block_num\n",
    "\n",
    "if not isfile(tar_gz_path):\n",
    "    with DLProgress(unit='B', unit_scale=True, miniters=1, desc='CIFAR-10 Dataset') as pbar:\n",
    "        urlretrieve(\n",
    "            'https://www.cs.toronto.edu/~kriz/cifar-10-python.tar.gz',\n",
    "            tar_gz_path,\n",
    "            pbar.hook)\n",
    "\n",
    "if not isdir(cifar10_dataset_folder_path):\n",
    "    with tarfile.open(tar_gz_path) as tar:\n",
    "        tar.extractall()\n",
    "        tar.close()\n",
    "\n",
    "\n",
    "tests.test_folder_path(cifar10_dataset_folder_path)"
   ]
  },
  {
   "cell_type": "markdown",
   "metadata": {},
   "source": [
    "## Explore the Data\n",
    "The dataset is broken into batches to prevent your machine from running out of memory.  The CIFAR-10 dataset consists of 5 batches, named `data_batch_1`, `data_batch_2`, etc.. Each batch contains the labels and images that are one of the following:\n",
    "* airplane\n",
    "* automobile\n",
    "* bird\n",
    "* cat\n",
    "* deer\n",
    "* dog\n",
    "* frog\n",
    "* horse\n",
    "* ship\n",
    "* truck\n",
    "\n",
    "Understanding a dataset is part of making predictions on the data.  Play around with the code cell below by changing the `batch_id` and `sample_id`. The `batch_id` is the id for a batch (1-5). The `sample_id` is the id for a image and label pair in the batch.\n",
    "\n",
    "Ask yourself \"What are all possible labels?\", \"What is the range of values for the image data?\", \"Are the labels in order or random?\".  Answers to questions like these will help you preprocess the data and end up with better predictions."
   ]
  },
  {
   "cell_type": "code",
   "execution_count": 3,
   "metadata": {},
   "outputs": [
    {
     "name": "stdout",
     "output_type": "stream",
     "text": [
      "\n",
      "Stats of batch 1:\n",
      "Samples: 10000\n",
      "Label Counts: {0: 1005, 1: 974, 2: 1032, 3: 1016, 4: 999, 5: 937, 6: 1030, 7: 1001, 8: 1025, 9: 981}\n",
      "First 20 Labels: [6, 9, 9, 4, 1, 1, 2, 7, 8, 3, 4, 7, 7, 2, 9, 9, 9, 3, 2, 6]\n",
      "\n",
      "Example of Image 5:\n",
      "Image - Min Value: 0 Max Value: 252\n",
      "Image - Shape: (32, 32, 3)\n",
      "Label - Label Id: 1 Name: automobile\n"
     ]
    },
    {
     "data": {
      "image/png": "[encoded data removed]",
      "text/plain": [
       "<matplotlib.figure.Figure at 0x20e7dbefe10>"
      ]
     },
     "metadata": {
      "image/png": {
       "height": 250,
       "width": 253
      }
     },
     "output_type": "display_data"
    }
   ],
   "source": [
    "%matplotlib inline\n",
    "%config InlineBackend.figure_format = 'retina'\n",
    "\n",
    "import helper\n",
    "import numpy as np\n",
    "\n",
    "# Explore the dataset\n",
    "batch_id = 1\n",
    "sample_id = 5\n",
    "helper.display_stats(cifar10_dataset_folder_path, batch_id, sample_id)"
   ]
  },
  {
   "cell_type": "markdown",
   "metadata": {},
   "source": [
    "## Implement Preprocess Functions\n",
    "### Normalize\n",
    "In the cell below, implement the `normalize` function to take in image data, `x`, and return it as a normalized Numpy array. The values should be in the range of 0 to 1, inclusive.  The return object should be the same shape as `x`."
   ]
  },
  {
   "cell_type": "code",
   "execution_count": 4,
   "metadata": {},
   "outputs": [
    {
     "name": "stdout",
     "output_type": "stream",
     "text": [
      "Tests Passed\n"
     ]
    }
   ],
   "source": [
    "def normalize(x):\n",
    "    \"\"\"\n",
    "    Normalize a list of sample image data in the range of 0 to 1\n",
    "    : x: List of image data.  The image shape is (32, 32, 3)\n",
    "    : return: Numpy array of normalize data\n",
    "    \"\"\"\n",
    "    # TODO: Implement Function\n",
    "    return (x / 255.0)\n",
    "\n",
    "\n",
    "\"\"\"\n",
    "DON'T MODIFY ANYTHING IN THIS CELL THAT IS BELOW THIS LINE\n",
    "\"\"\"\n",
    "tests.test_normalize(normalize)"
   ]
  },
  {
   "cell_type": "markdown",
   "metadata": {},
   "source": [
    "### One-hot encode\n",
    "Just like the previous code cell, you'll be implementing a function for preprocessing.  This time, you'll implement the `one_hot_encode` function. The input, `x`, are a list of labels.  Implement the function to return the list of labels as One-Hot encoded Numpy array.  The possible values for labels are 0 to 9. The one-hot encoding function should return the same encoding for each value between each call to `one_hot_encode`.  Make sure to save the map of encodings outside the function.\n",
    "\n",
    "Hint: Don't reinvent the wheel."
   ]
  },
  {
   "cell_type": "code",
   "execution_count": 5,
   "metadata": {},
   "outputs": [
    {
     "name": "stdout",
     "output_type": "stream",
     "text": [
      "Tests Passed\n"
     ]
    }
   ],
   "source": [
    "def one_hot_encode(x):\n",
    "    \"\"\"\n",
    "    One hot encode a list of sample labels. Return a one-hot encoded vector for each label.\n",
    "    : x: List of sample Labels\n",
    "    : return: Numpy array of one-hot encoded labels\n",
    "    \"\"\"\n",
    "    # TODO: Implement Function\n",
    "    return np.eye(10)[x]\n",
    "\n",
    "\n",
    "\"\"\"\n",
    "DON'T MODIFY ANYTHING IN THIS CELL THAT IS BELOW THIS LINE\n",
    "\"\"\"\n",
    "tests.test_one_hot_encode(one_hot_encode)"
   ]
  },
  {
   "cell_type": "markdown",
   "metadata": {},
   "source": [
    "### Randomize Data\n",
    "As you saw from exploring the data above, the order of the samples are randomized.  It doesn't hurt to randomize it again, but you don't need to for this dataset."
   ]
  },
  {
   "cell_type": "markdown",
   "metadata": {},
   "source": [
    "## Preprocess all the data and save it\n",
    "Running the code cell below will preprocess all the CIFAR-10 data and save it to file. The code below also uses 10% of the training data for validation."
   ]
  },
  {
   "cell_type": "code",
   "execution_count": 6,
   "metadata": {},
   "outputs": [],
   "source": [
    "\"\"\"\n",
    "DON'T MODIFY ANYTHING IN THIS CELL\n",
    "\"\"\"\n",
    "# Preprocess Training, Validation, and Testing Data\n",
    "helper.preprocess_and_save_data(cifar10_dataset_folder_path, normalize, one_hot_encode)"
   ]
  },
  {
   "cell_type": "markdown",
   "metadata": {},
   "source": [
    "# Check Point\n",
    "This is your first checkpoint.  If you ever decide to come back to this notebook or have to restart the notebook, you can start from here.  The preprocessed data has been saved to disk."
   ]
  },
  {
   "cell_type": "code",
   "execution_count": 7,
   "metadata": {},
   "outputs": [],
   "source": [
    "\"\"\"\n",
    "DON'T MODIFY ANYTHING IN THIS CELL\n",
    "\"\"\"\n",
    "import pickle\n",
    "import problem_unittests as tests\n",
    "import helper\n",
    "\n",
    "# Load the Preprocessed Validation data\n",
    "valid_features, valid_labels = pickle.load(open('preprocess_validation.p', mode='rb'))"
   ]
  },
  {
   "cell_type": "markdown",
   "metadata": {},
   "source": [
    "## Build the network\n",
    "For the neural network, you'll build each layer into a function.  Most of the code you've seen has been outside of functions. To test your code more thoroughly, we require that you put each layer in a function.  This allows us to give you better feedback and test for simple mistakes using our unittests before you submit your project.\n",
    "\n",
    ">**Note:** If you're finding it hard to dedicate enough time for this course each week, we've provided a small shortcut to this part of the project. In the next couple of problems, you'll have the option to use classes from the [TensorFlow Layers](https://www.tensorflow.org/api_docs/python/tf/layers) or [TensorFlow Layers (contrib)](https://www.tensorflow.org/api_guides/python/contrib.layers) packages to build each layer, except the layers you build in the \"Convolutional and Max Pooling Layer\" section.  TF Layers is similar to Keras's and TFLearn's abstraction to layers, so it's easy to pickup.\n",
    "\n",
    ">However, if you would like to get the most out of this course, try to solve all the problems _without_ using anything from the TF Layers packages. You **can** still use classes from other packages that happen to have the same name as ones you find in TF Layers! For example, instead of using the TF Layers version of the `conv2d` class, [tf.layers.conv2d](https://www.tensorflow.org/api_docs/python/tf/layers/conv2d), you would want to use the TF Neural Network version of `conv2d`, [tf.nn.conv2d](https://www.tensorflow.org/api_docs/python/tf/nn/conv2d). \n",
    "\n",
    "Let's begin!\n",
    "\n",
    "### Input\n",
    "The neural network needs to read the image data, one-hot encoded labels, and dropout keep probability. Implement the following functions\n",
    "* Implement `neural_net_image_input`\n",
    " * Return a [TF Placeholder](https://www.tensorflow.org/api_docs/python/tf/placeholder)\n",
    " * Set the shape using `image_shape` with batch size set to `None`.\n",
    " * Name the TensorFlow placeholder \"x\" using the TensorFlow `name` parameter in the [TF Placeholder](https://www.tensorflow.org/api_docs/python/tf/placeholder).\n",
    "* Implement `neural_net_label_input`\n",
    " * Return a [TF Placeholder](https://www.tensorflow.org/api_docs/python/tf/placeholder)\n",
    " * Set the shape using `n_classes` with batch size set to `None`.\n",
    " * Name the TensorFlow placeholder \"y\" using the TensorFlow `name` parameter in the [TF Placeholder](https://www.tensorflow.org/api_docs/python/tf/placeholder).\n",
    "* Implement `neural_net_keep_prob_input`\n",
    " * Return a [TF Placeholder](https://www.tensorflow.org/api_docs/python/tf/placeholder) for dropout keep probability.\n",
    " * Name the TensorFlow placeholder \"keep_prob\" using the TensorFlow `name` parameter in the [TF Placeholder](https://www.tensorflow.org/api_docs/python/tf/placeholder).\n",
    "\n",
    "These names will be used at the end of the project to load your saved model.\n",
    "\n",
    "Note: `None` for shapes in TensorFlow allow for a dynamic size."
   ]
  },
  {
   "cell_type": "code",
   "execution_count": 8,
   "metadata": {},
   "outputs": [
    {
     "name": "stdout",
     "output_type": "stream",
     "text": [
      "Image Input Tests Passed.\n",
      "Label Input Tests Passed.\n",
      "Keep Prob Tests Passed.\n"
     ]
    }
   ],
   "source": [
    "import tensorflow as tf\n",
    "\n",
    "def neural_net_image_input(image_shape):\n",
    "    \"\"\"\n",
    "    Return a Tensor for a batch of image input\n",
    "    : image_shape: Shape of the images\n",
    "    : return: Tensor for image input.\n",
    "    \"\"\"\n",
    "    # TODO: Implement Function\n",
    "    return tf.placeholder(tf.float32, [None, *image_shape], name='x')\n",
    "\n",
    "\n",
    "def neural_net_label_input(n_classes):\n",
    "    \"\"\"\n",
    "    Return a Tensor for a batch of label input\n",
    "    : n_classes: Number of classes\n",
    "    : return: Tensor for label input.\n",
    "    \"\"\"\n",
    "    # TODO: Implement Function\n",
    "    return tf.placeholder(tf.float32, [None, n_classes], name='y')\n",
    "\n",
    "\n",
    "def neural_net_keep_prob_input():\n",
    "    \"\"\"\n",
    "    Return a Tensor for keep probability\n",
    "    : return: Tensor for keep probability.\n",
    "    \"\"\"\n",
    "    # TODO: Implement Function\n",
    "    return tf.placeholder(tf.float32, name='keep_prob')\n",
    "\n",
    "\n",
    "\"\"\"\n",
    "DON'T MODIFY ANYTHING IN THIS CELL THAT IS BELOW THIS LINE\n",
    "\"\"\"\n",
    "tf.reset_default_graph()\n",
    "tests.test_nn_image_inputs(neural_net_image_input)\n",
    "tests.test_nn_label_inputs(neural_net_label_input)\n",
    "tests.test_nn_keep_prob_inputs(neural_net_keep_prob_input)"
   ]
  },
  {
   "cell_type": "markdown",
   "metadata": {},
   "source": [
    "### Convolution and Max Pooling Layer\n",
    "Convolution layers have a lot of success with images. For this code cell, you should implement the function `conv2d_maxpool` to apply convolution then max pooling:\n",
    "* Create the weight and bias using `conv_ksize`, `conv_num_outputs` and the shape of `x_tensor`.\n",
    "* Apply a convolution to `x_tensor` using weight and `conv_strides`.\n",
    " * We recommend you use same padding, but you're welcome to use any padding.\n",
    "* Add bias\n",
    "* Add a nonlinear activation to the convolution.\n",
    "* Apply Max Pooling using `pool_ksize` and `pool_strides`.\n",
    " * We recommend you use same padding, but you're welcome to use any padding.\n",
    "\n",
    "**Note:** You **can't** use [TensorFlow Layers](https://www.tensorflow.org/api_docs/python/tf/layers) or [TensorFlow Layers (contrib)](https://www.tensorflow.org/api_guides/python/contrib.layers) for **this** layer, but you can still use TensorFlow's [Neural Network](https://www.tensorflow.org/api_docs/python/tf/nn) package. You may still use the shortcut option for all the **other** layers."
   ]
  },
  {
   "cell_type": "code",
   "execution_count": 9,
   "metadata": {},
   "outputs": [
    {
     "name": "stdout",
     "output_type": "stream",
     "text": [
      "Tests Passed\n"
     ]
    }
   ],
   "source": [
    "def conv2d_maxpool(x_tensor, conv_num_outputs, conv_ksize, conv_strides, pool_ksize, pool_strides):\n",
    "    \"\"\"\n",
    "    Apply convolution then max pooling to x_tensor\n",
    "    :param x_tensor: TensorFlow Tensor\n",
    "    :param conv_num_outputs: Number of outputs for the convolutional layer\n",
    "    :param conv_ksize: kernal size 2-D Tuple for the convolutional layer\n",
    "    :param conv_strides: Stride 2-D Tuple for convolution\n",
    "    :param pool_ksize: kernal size 2-D Tuple for pool\n",
    "    :param pool_strides: Stride 2-D Tuple for pool\n",
    "    : return: A tensor that represents convolution and max pooling of x_tensor\n",
    "    \"\"\"\n",
    "    # TODO: Implement Function\n",
    "    \n",
    "    color_channels = x_tensor.shape[3].value\n",
    "\n",
    "    weights_value = tf.Variable(tf.truncated_normal([conv_ksize[0], conv_ksize[1], color_channels, conv_num_outputs], mean=0, stddev=0.1))\n",
    "\n",
    "    bias_value = tf.Variable(tf.zeros(conv_num_outputs))\n",
    "    \n",
    "    conv_layer = tf.nn.conv2d(x_tensor, weights_value, strides=[1, conv_strides[0], conv_strides[1], 1], padding='SAME')\n",
    "    \n",
    "    conv_layer = tf.nn.bias_add(conv_layer, bias_value)\n",
    "    \n",
    "    conv_layer = tf.nn.relu(conv_layer)\n",
    "                          \n",
    "    conv_layer = tf.nn.max_pool(conv_layer, ksize=[1, pool_ksize[0], pool_ksize[1], 1], strides=[1, pool_strides[0], pool_strides[1], 1], padding='SAME')\n",
    "\n",
    "    return conv_layer\n",
    "    \n",
    "\n",
    "\"\"\"\n",
    "DON'T MODIFY ANYTHING IN THIS CELL THAT IS BELOW THIS LINE\n",
    "\"\"\"\n",
    "tests.test_con_pool(conv2d_maxpool)"
   ]
  },
  {
   "cell_type": "markdown",
   "metadata": {},
   "source": [
    "### Flatten Layer\n",
    "Implement the `flatten` function to change the dimension of `x_tensor` from a 4-D tensor to a 2-D tensor.  The output should be the shape (*Batch Size*, *Flattened Image Size*). Shortcut option: you can use classes from the [TensorFlow Layers](https://www.tensorflow.org/api_docs/python/tf/layers) or [TensorFlow Layers (contrib)](https://www.tensorflow.org/api_guides/python/contrib.layers) packages for this layer. For more of a challenge, only use other TensorFlow packages."
   ]
  },
  {
   "cell_type": "code",
   "execution_count": 11,
   "metadata": {},
   "outputs": [
    {
     "name": "stdout",
     "output_type": "stream",
     "text": [
      "Tests Passed\n"
     ]
    }
   ],
   "source": [
    "def flatten(x_tensor):\n",
    "    \"\"\"\n",
    "    Flatten x_tensor to (Batch Size, Flattened Image Size)\n",
    "    : x_tensor: A tensor of size (Batch Size, ...), where ... are the image dimensions.\n",
    "    : return: A tensor of size (Batch Size, Flattened Image Size).\n",
    "    \"\"\"\n",
    "    # TODO: Implement Function\n",
    "    return tf.contrib.layers.flatten(x_tensor)\n",
    "\n",
    "\n",
    "\"\"\"\n",
    "DON'T MODIFY ANYTHING IN THIS CELL THAT IS BELOW THIS LINE\n",
    "\"\"\"\n",
    "tests.test_flatten(flatten)"
   ]
  },
  {
   "cell_type": "markdown",
   "metadata": {},
   "source": [
    "### Fully-Connected Layer\n",
    "Implement the `fully_conn` function to apply a fully connected layer to `x_tensor` with the shape (*Batch Size*, *num_outputs*). Shortcut option: you can use classes from the [TensorFlow Layers](https://www.tensorflow.org/api_docs/python/tf/layers) or [TensorFlow Layers (contrib)](https://www.tensorflow.org/api_guides/python/contrib.layers) packages for this layer. For more of a challenge, only use other TensorFlow packages."
   ]
  },
  {
   "cell_type": "code",
   "execution_count": 12,
   "metadata": {},
   "outputs": [
    {
     "name": "stdout",
     "output_type": "stream",
     "text": [
      "Tests Passed\n"
     ]
    }
   ],
   "source": [
    "def fully_conn(x_tensor, num_outputs):\n",
    "    \"\"\"\n",
    "    Apply a fully connected layer to x_tensor using weight and bias\n",
    "    : x_tensor: A 2-D tensor where the first dimension is batch size.\n",
    "    : num_outputs: The number of output that the new tensor should be.\n",
    "    : return: A 2-D tensor where the second dimension is num_outputs.\n",
    "    \"\"\"\n",
    "    # TODO: Implement Function\n",
    "    \n",
    "    shape = x_tensor.get_shape().as_list()\n",
    "    \n",
    "    weights_value = tf.Variable(tf.random_normal([shape[-1], num_outputs], mean=0, stddev=0.1))\n",
    "    \n",
    "    biases_value = tf.Variable(tf.zeros(num_outputs))\n",
    "    \n",
    "    full_conv_layer = tf.add(tf.matmul(x_tensor, weights_value), biases_value)\n",
    "    \n",
    "    return tf.nn.relu(full_conv_layer)\n",
    "    \n",
    "\n",
    "\"\"\"\n",
    "DON'T MODIFY ANYTHING IN THIS CELL THAT IS BELOW THIS LINE\n",
    "\"\"\"\n",
    "tests.test_fully_conn(fully_conn)"
   ]
  },
  {
   "cell_type": "markdown",
   "metadata": {},
   "source": [
    "### Output Layer\n",
    "Implement the `output` function to apply a fully connected layer to `x_tensor` with the shape (*Batch Size*, *num_outputs*). Shortcut option: you can use classes from the [TensorFlow Layers](https://www.tensorflow.org/api_docs/python/tf/layers) or [TensorFlow Layers (contrib)](https://www.tensorflow.org/api_guides/python/contrib.layers) packages for this layer. For more of a challenge, only use other TensorFlow packages.\n",
    "\n",
    "**Note:** Activation, softmax, or cross entropy should **not** be applied to this."
   ]
  },
  {
   "cell_type": "code",
   "execution_count": 13,
   "metadata": {},
   "outputs": [
    {
     "name": "stdout",
     "output_type": "stream",
     "text": [
      "Tests Passed\n"
     ]
    }
   ],
   "source": [
    "def output(x_tensor, num_outputs):\n",
    "    \"\"\"\n",
    "    Apply a output layer to x_tensor using weight and bias\n",
    "    : x_tensor: A 2-D tensor where the first dimension is batch size.\n",
    "    : num_outputs: The number of output that the new tensor should be.\n",
    "    : return: A 2-D tensor where the second dimension is num_outputs.\n",
    "    \"\"\"\n",
    "    # TODO: Implement Function\n",
    "           \n",
    "    shape = x_tensor.get_shape().as_list()\n",
    "    \n",
    "    weights_value = tf.Variable(tf.random_normal([shape[-1], num_outputs], mean=0, stddev=0.1))\n",
    "    \n",
    "    biases_value = tf.Variable(tf.zeros(num_outputs))\n",
    "    \n",
    "    output_layer = tf.add(tf.matmul(x_tensor, weights_value), biases_value)\n",
    "    \n",
    "    return output_layer\n",
    "    \n",
    "\n",
    "\"\"\"\n",
    "DON'T MODIFY ANYTHING IN THIS CELL THAT IS BELOW THIS LINE\n",
    "\"\"\"\n",
    "tests.test_output(output)"
   ]
  },
  {
   "cell_type": "markdown",
   "metadata": {},
   "source": [
    "### Create Convolutional Model\n",
    "Implement the function `conv_net` to create a convolutional neural network model. The function takes in a batch of images, `x`, and outputs logits.  Use the layers you created above to create this model:\n",
    "\n",
    "* Apply 1, 2, or 3 Convolution and Max Pool layers\n",
    "* Apply a Flatten Layer\n",
    "* Apply 1, 2, or 3 Fully Connected Layers\n",
    "* Apply an Output Layer\n",
    "* Return the output\n",
    "* Apply [TensorFlow's Dropout](https://www.tensorflow.org/api_docs/python/tf/nn/dropout) to one or more layers in the model using `keep_prob`. "
   ]
  },
  {
   "cell_type": "code",
   "execution_count": 14,
   "metadata": {},
   "outputs": [
    {
     "name": "stdout",
     "output_type": "stream",
     "text": [
      "Neural Network Built!\n"
     ]
    }
   ],
   "source": [
    "def conv_net(x, keep_prob):\n",
    "    \"\"\"\n",
    "    Create a convolutional neural network model\n",
    "    : x: Placeholder tensor that holds image data.\n",
    "    : keep_prob: Placeholder tensor that hold dropout keep probability.\n",
    "    : return: Tensor that represents logits\n",
    "    \"\"\"\n",
    "    # TODO: Apply 1, 2, or 3 Convolution and Max Pool layers\n",
    "    #    Play around with different number of outputs, kernel size and stride\n",
    "    # Function Definition from Above:\n",
    "    #    conv2d_maxpool(x_tensor, conv_num_outputs, conv_ksize, conv_strides, pool_ksize, pool_strides)\n",
    "    conv = conv2d_maxpool(x, 16, (4, 4), (1, 1), (2, 2), (2, 2))\n",
    "    conv = conv2d_maxpool(x, 32, (4, 4), (1, 1), (2, 2), (2, 2))\n",
    "    conv = conv2d_maxpool(x, 64, (4, 4), (1, 1), (2, 2), (2, 2))\n",
    "\n",
    "    # TODO: Apply a Flatten Layer\n",
    "    # Function Definition from Above:\n",
    "    #   flatten(x_tensor)\n",
    "    flatten_layer = flatten(conv)\n",
    "\n",
    "    # TODO: Apply 1, 2, or 3 Fully Connected Layers\n",
    "    #    Play around with different number of outputs\n",
    "    # Function Definition from Above:\n",
    "    #   fully_conn(x_tensor, num_outputs)\n",
    "    \n",
    "    f_con = fully_conn(flatten_layer, 512)\n",
    "    f_con = tf.nn.dropout(f_con, keep_prob)\n",
    "    f_con = fully_conn(f_con, 64)\n",
    "    \n",
    "    \n",
    "    # TODO: Apply an Output Layer\n",
    "    #    Set this to the number of classes\n",
    "    # Function Definition from Above:\n",
    "    #   output(x_tensor, num_outputs)\n",
    "    out_layer = output(f_con, 10)\n",
    "    \n",
    "    # TODO: return output\n",
    "    return out_layer\n",
    "\n",
    "\n",
    "\"\"\"\n",
    "DON'T MODIFY ANYTHING IN THIS CELL THAT IS BELOW THIS LINE\n",
    "\"\"\"\n",
    "\n",
    "##############################\n",
    "## Build the Neural Network ##\n",
    "##############################\n",
    "\n",
    "# Remove previous weights, bias, inputs, etc..\n",
    "tf.reset_default_graph()\n",
    "\n",
    "# Inputs\n",
    "x = neural_net_image_input((32, 32, 3))\n",
    "y = neural_net_label_input(10)\n",
    "keep_prob = neural_net_keep_prob_input()\n",
    "\n",
    "# Model\n",
    "logits = conv_net(x, keep_prob)\n",
    "\n",
    "# Name logits Tensor, so that is can be loaded from disk after training\n",
    "logits = tf.identity(logits, name='logits')\n",
    "\n",
    "# Loss and Optimizer\n",
    "cost = tf.reduce_mean(tf.nn.softmax_cross_entropy_with_logits(logits=logits, labels=y))\n",
    "optimizer = tf.train.AdamOptimizer().minimize(cost)\n",
    "\n",
    "# Accuracy\n",
    "correct_pred = tf.equal(tf.argmax(logits, 1), tf.argmax(y, 1))\n",
    "accuracy = tf.reduce_mean(tf.cast(correct_pred, tf.float32), name='accuracy')\n",
    "\n",
    "tests.test_conv_net(conv_net)"
   ]
  },
  {
   "cell_type": "markdown",
   "metadata": {},
   "source": [
    "## Train the Neural Network\n",
    "### Single Optimization\n",
    "Implement the function `train_neural_network` to do a single optimization.  The optimization should use `optimizer` to optimize in `session` with a `feed_dict` of the following:\n",
    "* `x` for image input\n",
    "* `y` for labels\n",
    "* `keep_prob` for keep probability for dropout\n",
    "\n",
    "This function will be called for each batch, so `tf.global_variables_initializer()` has already been called.\n",
    "\n",
    "Note: Nothing needs to be returned. This function is only optimizing the neural network."
   ]
  },
  {
   "cell_type": "code",
   "execution_count": 15,
   "metadata": {},
   "outputs": [
    {
     "name": "stdout",
     "output_type": "stream",
     "text": [
      "Tests Passed\n"
     ]
    }
   ],
   "source": [
    "def train_neural_network(session, optimizer, keep_probability, feature_batch, label_batch):\n",
    "    \"\"\"\n",
    "    Optimize the session on a batch of images and labels\n",
    "    : session: Current TensorFlow session\n",
    "    : optimizer: TensorFlow optimizer function\n",
    "    : keep_probability: keep probability\n",
    "    : feature_batch: Batch of Numpy image data\n",
    "    : label_batch: Batch of Numpy label data\n",
    "    \"\"\"\n",
    "    # TODO: Implement Function\n",
    "    session.run(optimizer, feed_dict={x: feature_batch, y: label_batch, keep_prob: keep_probability})\n",
    "    pass\n",
    "\n",
    "\n",
    "\"\"\"\n",
    "DON'T MODIFY ANYTHING IN THIS CELL THAT IS BELOW THIS LINE\n",
    "\"\"\"\n",
    "tests.test_train_nn(train_neural_network)"
   ]
  },
  {
   "cell_type": "markdown",
   "metadata": {},
   "source": [
    "### Show Stats\n",
    "Implement the function `print_stats` to print loss and validation accuracy.  Use the global variables `valid_features` and `valid_labels` to calculate validation accuracy.  Use a keep probability of `1.0` to calculate the loss and validation accuracy."
   ]
  },
  {
   "cell_type": "code",
   "execution_count": 16,
   "metadata": {},
   "outputs": [],
   "source": [
    "def print_stats(session, feature_batch, label_batch, cost, accuracy):\n",
    "    \"\"\"\n",
    "    Print information about loss and validation accuracy\n",
    "    : session: Current TensorFlow session\n",
    "    : feature_batch: Batch of Numpy image data\n",
    "    : label_batch: Batch of Numpy label data\n",
    "    : cost: TensorFlow cost function\n",
    "    : accuracy: TensorFlow accuracy function\n",
    "    \"\"\"\n",
    "    # TODO: Implement Function\n",
    "    loss_value = session.run(cost, feed_dict={x: feature_batch, y: label_batch, keep_prob: 1.0})\n",
    "\n",
    "    val_accuracy_value = session.run(accuracy, feed_dict={x: valid_features, y: valid_labels, keep_prob: 1.0})\n",
    "\n",
    "    print('Loss value: {} Validation Accuracy: {}'.format(loss_value, val_accuracy_value))\n",
    "\n"
   ]
  },
  {
   "cell_type": "markdown",
   "metadata": {},
   "source": [
    "### Hyperparameters\n",
    "Tune the following parameters:\n",
    "* Set `epochs` to the number of iterations until the network stops learning or start overfitting\n",
    "* Set `batch_size` to the highest number that your machine has memory for.  Most people set them to common sizes of memory:\n",
    " * 64\n",
    " * 128\n",
    " * 256\n",
    " * ...\n",
    "* Set `keep_probability` to the probability of keeping a node using dropout"
   ]
  },
  {
   "cell_type": "code",
   "execution_count": 17,
   "metadata": {},
   "outputs": [],
   "source": [
    "# TODO: Tune Parameters\n",
    "epochs = 50\n",
    "batch_size = 128\n",
    "keep_probability = 0.8"
   ]
  },
  {
   "cell_type": "markdown",
   "metadata": {},
   "source": [
    "### Train on a Single CIFAR-10 Batch\n",
    "Instead of training the neural network on all the CIFAR-10 batches of data, let's use a single batch. This should save time while you iterate on the model to get a better accuracy.  Once the final validation accuracy is 50% or greater, run the model on all the data in the next section."
   ]
  },
  {
   "cell_type": "code",
   "execution_count": 18,
   "metadata": {},
   "outputs": [
    {
     "name": "stdout",
     "output_type": "stream",
     "text": [
      "Checking the Training on a Single Batch...\n",
      "Epoch  1, CIFAR-10 Batch 1:  Loss value: 2.069161891937256 Validation Accuracy: 0.30219998955726624\n",
      "Epoch  2, CIFAR-10 Batch 1:  Loss value: 1.7454532384872437 Validation Accuracy: 0.4016000032424927\n",
      "Epoch  3, CIFAR-10 Batch 1:  Loss value: 1.4241511821746826 Validation Accuracy: 0.47040000557899475\n",
      "Epoch  4, CIFAR-10 Batch 1:  Loss value: 1.1756725311279297 Validation Accuracy: 0.5109999775886536\n",
      "Epoch  5, CIFAR-10 Batch 1:  Loss value: 0.9361782073974609 Validation Accuracy: 0.5095999836921692\n",
      "Epoch  6, CIFAR-10 Batch 1:  Loss value: 0.719208836555481 Validation Accuracy: 0.5157999992370605\n",
      "Epoch  7, CIFAR-10 Batch 1:  Loss value: 0.5571790933609009 Validation Accuracy: 0.5401999950408936\n",
      "Epoch  8, CIFAR-10 Batch 1:  Loss value: 0.41359013319015503 Validation Accuracy: 0.5370000004768372\n",
      "Epoch  9, CIFAR-10 Batch 1:  Loss value: 0.3434489965438843 Validation Accuracy: 0.520799994468689\n",
      "Epoch 10, CIFAR-10 Batch 1:  Loss value: 0.24734830856323242 Validation Accuracy: 0.5339999794960022\n",
      "Epoch 11, CIFAR-10 Batch 1:  Loss value: 0.1553909033536911 Validation Accuracy: 0.5386000275611877\n",
      "Epoch 12, CIFAR-10 Batch 1:  Loss value: 0.1181710734963417 Validation Accuracy: 0.5230000019073486\n",
      "Epoch 13, CIFAR-10 Batch 1:  Loss value: 0.09066208451986313 Validation Accuracy: 0.5198000073432922\n",
      "Epoch 14, CIFAR-10 Batch 1:  Loss value: 0.06952519714832306 Validation Accuracy: 0.5419999957084656\n",
      "Epoch 15, CIFAR-10 Batch 1:  Loss value: 0.06747321784496307 Validation Accuracy: 0.5284000039100647\n",
      "Epoch 16, CIFAR-10 Batch 1:  Loss value: 0.0595320463180542 Validation Accuracy: 0.5442000031471252\n",
      "Epoch 17, CIFAR-10 Batch 1:  Loss value: 0.029023826122283936 Validation Accuracy: 0.5393999814987183\n",
      "Epoch 18, CIFAR-10 Batch 1:  Loss value: 0.028239810839295387 Validation Accuracy: 0.5419999957084656\n",
      "Epoch 19, CIFAR-10 Batch 1:  Loss value: 0.01811538077890873 Validation Accuracy: 0.5411999821662903\n",
      "Epoch 20, CIFAR-10 Batch 1:  Loss value: 0.01023793499916792 Validation Accuracy: 0.5526000261306763\n",
      "Epoch 21, CIFAR-10 Batch 1:  Loss value: 0.009588438086211681 Validation Accuracy: 0.5526000261306763\n",
      "Epoch 22, CIFAR-10 Batch 1:  Loss value: 0.011284951120615005 Validation Accuracy: 0.5447999835014343\n",
      "Epoch 23, CIFAR-10 Batch 1:  Loss value: 0.012883879244327545 Validation Accuracy: 0.5509999990463257\n",
      "Epoch 24, CIFAR-10 Batch 1:  Loss value: 0.00624800194054842 Validation Accuracy: 0.5509999990463257\n",
      "Epoch 25, CIFAR-10 Batch 1:  Loss value: 0.0037498660385608673 Validation Accuracy: 0.5582000017166138\n",
      "Epoch 26, CIFAR-10 Batch 1:  Loss value: 0.003296528710052371 Validation Accuracy: 0.5454000234603882\n",
      "Epoch 27, CIFAR-10 Batch 1:  Loss value: 0.006447814404964447 Validation Accuracy: 0.5478000044822693\n",
      "Epoch 28, CIFAR-10 Batch 1:  Loss value: 0.0035716728307306767 Validation Accuracy: 0.5464000105857849\n",
      "Epoch 29, CIFAR-10 Batch 1:  Loss value: 0.004509937949478626 Validation Accuracy: 0.5529999732971191\n",
      "Epoch 30, CIFAR-10 Batch 1:  Loss value: 0.0058097536675632 Validation Accuracy: 0.5415999889373779\n",
      "Epoch 31, CIFAR-10 Batch 1:  Loss value: 0.001516104442998767 Validation Accuracy: 0.5422000288963318\n",
      "Epoch 32, CIFAR-10 Batch 1:  Loss value: 0.0013588729780167341 Validation Accuracy: 0.5514000058174133\n",
      "Epoch 33, CIFAR-10 Batch 1:  Loss value: 0.0015794567298144102 Validation Accuracy: 0.5447999835014343\n",
      "Epoch 34, CIFAR-10 Batch 1:  Loss value: 0.0005990734207443893 Validation Accuracy: 0.5464000105857849\n",
      "Epoch 35, CIFAR-10 Batch 1:  Loss value: 0.0014132477808743715 Validation Accuracy: 0.5429999828338623\n",
      "Epoch 36, CIFAR-10 Batch 1:  Loss value: 0.0005337100592441857 Validation Accuracy: 0.555400013923645\n",
      "Epoch 37, CIFAR-10 Batch 1:  Loss value: 0.00105197390075773 Validation Accuracy: 0.5511999726295471\n",
      "Epoch 38, CIFAR-10 Batch 1:  Loss value: 0.0007040977943688631 Validation Accuracy: 0.5475999712944031\n",
      "Epoch 39, CIFAR-10 Batch 1:  Loss value: 0.0018051931401714683 Validation Accuracy: 0.5393999814987183\n",
      "Epoch 40, CIFAR-10 Batch 1:  Loss value: 0.0008178971474990249 Validation Accuracy: 0.5569999814033508\n",
      "Epoch 41, CIFAR-10 Batch 1:  Loss value: 0.0012195305898785591 Validation Accuracy: 0.5569999814033508\n",
      "Epoch 42, CIFAR-10 Batch 1:  Loss value: 0.00105100660584867 Validation Accuracy: 0.5590000152587891\n",
      "Epoch 43, CIFAR-10 Batch 1:  Loss value: 0.0012606186792254448 Validation Accuracy: 0.5464000105857849\n",
      "Epoch 44, CIFAR-10 Batch 1:  Loss value: 0.0016431469703093171 Validation Accuracy: 0.5508000254631042\n",
      "Epoch 45, CIFAR-10 Batch 1:  Loss value: 0.0009601851925253868 Validation Accuracy: 0.5468000173568726\n",
      "Epoch 46, CIFAR-10 Batch 1:  Loss value: 0.0010031734127551317 Validation Accuracy: 0.5442000031471252\n",
      "Epoch 47, CIFAR-10 Batch 1:  Loss value: 0.0005279171164147556 Validation Accuracy: 0.5522000193595886\n",
      "Epoch 48, CIFAR-10 Batch 1:  Loss value: 0.000950210727751255 Validation Accuracy: 0.5508000254631042\n",
      "Epoch 49, CIFAR-10 Batch 1:  Loss value: 0.0003726345603354275 Validation Accuracy: 0.5544000267982483\n",
      "Epoch 50, CIFAR-10 Batch 1:  Loss value: 0.0021785409189760685 Validation Accuracy: 0.5569999814033508\n"
     ]
    }
   ],
   "source": [
    "\"\"\"\n",
    "DON'T MODIFY ANYTHING IN THIS CELL\n",
    "\"\"\"\n",
    "print('Checking the Training on a Single Batch...')\n",
    "with tf.Session() as sess:\n",
    "    # Initializing the variables\n",
    "    sess.run(tf.global_variables_initializer())\n",
    "    \n",
    "    # Training cycle\n",
    "    for epoch in range(epochs):\n",
    "        batch_i = 1\n",
    "        for batch_features, batch_labels in helper.load_preprocess_training_batch(batch_i, batch_size):\n",
    "            train_neural_network(sess, optimizer, keep_probability, batch_features, batch_labels)\n",
    "        print('Epoch {:>2}, CIFAR-10 Batch {}:  '.format(epoch + 1, batch_i), end='')\n",
    "        print_stats(sess, batch_features, batch_labels, cost, accuracy)"
   ]
  },
  {
   "cell_type": "markdown",
   "metadata": {},
   "source": [
    "### Fully Train the Model\n",
    "Now that you got a good accuracy with a single CIFAR-10 batch, try it with all five batches."
   ]
  },
  {
   "cell_type": "code",
   "execution_count": 19,
   "metadata": {},
   "outputs": [
    {
     "name": "stdout",
     "output_type": "stream",
     "text": [
      "Training...\n",
      "Epoch  1, CIFAR-10 Batch 1:  Loss value: 2.002988338470459 Validation Accuracy: 0.31139999628067017\n",
      "Epoch  1, CIFAR-10 Batch 2:  Loss value: 1.518007516860962 Validation Accuracy: 0.42179998755455017\n",
      "Epoch  1, CIFAR-10 Batch 3:  Loss value: 1.3376045227050781 Validation Accuracy: 0.45399999618530273\n",
      "Epoch  1, CIFAR-10 Batch 4:  Loss value: 1.3358888626098633 Validation Accuracy: 0.49559998512268066\n",
      "Epoch  1, CIFAR-10 Batch 5:  Loss value: 1.2048289775848389 Validation Accuracy: 0.5332000255584717\n",
      "Epoch  2, CIFAR-10 Batch 1:  Loss value: 1.3957700729370117 Validation Accuracy: 0.5428000092506409\n",
      "Epoch  2, CIFAR-10 Batch 2:  Loss value: 0.9345188140869141 Validation Accuracy: 0.5640000104904175\n",
      "Epoch  2, CIFAR-10 Batch 3:  Loss value: 0.8498415946960449 Validation Accuracy: 0.5802000164985657\n",
      "Epoch  2, CIFAR-10 Batch 4:  Loss value: 0.9267160296440125 Validation Accuracy: 0.5979999899864197\n",
      "Epoch  2, CIFAR-10 Batch 5:  Loss value: 0.8446429967880249 Validation Accuracy: 0.6176000237464905\n",
      "Epoch  3, CIFAR-10 Batch 1:  Loss value: 0.964032769203186 Validation Accuracy: 0.5982000231742859\n",
      "Epoch  3, CIFAR-10 Batch 2:  Loss value: 0.6631865501403809 Validation Accuracy: 0.607200026512146\n",
      "Epoch  3, CIFAR-10 Batch 3:  Loss value: 0.5962337255477905 Validation Accuracy: 0.6164000034332275\n",
      "Epoch  3, CIFAR-10 Batch 4:  Loss value: 0.681536078453064 Validation Accuracy: 0.6344000101089478\n",
      "Epoch  3, CIFAR-10 Batch 5:  Loss value: 0.5721123814582825 Validation Accuracy: 0.628000020980835\n",
      "Epoch  4, CIFAR-10 Batch 1:  Loss value: 0.6924393773078918 Validation Accuracy: 0.629800021648407\n",
      "Epoch  4, CIFAR-10 Batch 2:  Loss value: 0.45530596375465393 Validation Accuracy: 0.6381999850273132\n",
      "Epoch  4, CIFAR-10 Batch 3:  Loss value: 0.3845505118370056 Validation Accuracy: 0.6388000249862671\n",
      "Epoch  4, CIFAR-10 Batch 4:  Loss value: 0.4629969000816345 Validation Accuracy: 0.6507999897003174\n",
      "Epoch  4, CIFAR-10 Batch 5:  Loss value: 0.4276573061943054 Validation Accuracy: 0.6421999931335449\n",
      "Epoch  5, CIFAR-10 Batch 1:  Loss value: 0.4471686780452728 Validation Accuracy: 0.6474000215530396\n",
      "Epoch  5, CIFAR-10 Batch 2:  Loss value: 0.30196845531463623 Validation Accuracy: 0.6488000154495239\n",
      "Epoch  5, CIFAR-10 Batch 3:  Loss value: 0.25438109040260315 Validation Accuracy: 0.6606000065803528\n",
      "Epoch  5, CIFAR-10 Batch 4:  Loss value: 0.3150120675563812 Validation Accuracy: 0.6565999984741211\n",
      "Epoch  5, CIFAR-10 Batch 5:  Loss value: 0.2640799880027771 Validation Accuracy: 0.6413999795913696\n",
      "Epoch  6, CIFAR-10 Batch 1:  Loss value: 0.3145768642425537 Validation Accuracy: 0.6552000045776367\n",
      "Epoch  6, CIFAR-10 Batch 2:  Loss value: 0.1880398839712143 Validation Accuracy: 0.6567999720573425\n",
      "Epoch  6, CIFAR-10 Batch 3:  Loss value: 0.17900757491588593 Validation Accuracy: 0.6498000025749207\n",
      "Epoch  6, CIFAR-10 Batch 4:  Loss value: 0.20218515396118164 Validation Accuracy: 0.6565999984741211\n",
      "Epoch  6, CIFAR-10 Batch 5:  Loss value: 0.19198045134544373 Validation Accuracy: 0.65420001745224\n",
      "Epoch  7, CIFAR-10 Batch 1:  Loss value: 0.20366820693016052 Validation Accuracy: 0.6674000024795532\n",
      "Epoch  7, CIFAR-10 Batch 2:  Loss value: 0.13466663658618927 Validation Accuracy: 0.6514000296592712\n",
      "Epoch  7, CIFAR-10 Batch 3:  Loss value: 0.15763501822948456 Validation Accuracy: 0.6161999702453613\n",
      "Epoch  7, CIFAR-10 Batch 4:  Loss value: 0.16526862978935242 Validation Accuracy: 0.6531999707221985\n",
      "Epoch  7, CIFAR-10 Batch 5:  Loss value: 0.12718896567821503 Validation Accuracy: 0.6592000126838684\n",
      "Epoch  8, CIFAR-10 Batch 1:  Loss value: 0.17420276999473572 Validation Accuracy: 0.6281999945640564\n",
      "Epoch  8, CIFAR-10 Batch 2:  Loss value: 0.09974926710128784 Validation Accuracy: 0.6266000270843506\n",
      "Epoch  8, CIFAR-10 Batch 3:  Loss value: 0.10873861610889435 Validation Accuracy: 0.6499999761581421\n",
      "Epoch  8, CIFAR-10 Batch 4:  Loss value: 0.10696599632501602 Validation Accuracy: 0.6502000093460083\n",
      "Epoch  8, CIFAR-10 Batch 5:  Loss value: 0.09700553119182587 Validation Accuracy: 0.6625999808311462\n",
      "Epoch  9, CIFAR-10 Batch 1:  Loss value: 0.08514474332332611 Validation Accuracy: 0.6607999801635742\n",
      "Epoch  9, CIFAR-10 Batch 2:  Loss value: 0.07467512786388397 Validation Accuracy: 0.635200023651123\n",
      "Epoch  9, CIFAR-10 Batch 3:  Loss value: 0.058820705860853195 Validation Accuracy: 0.6633999943733215\n",
      "Epoch  9, CIFAR-10 Batch 4:  Loss value: 0.09422612935304642 Validation Accuracy: 0.6385999917984009\n",
      "Epoch  9, CIFAR-10 Batch 5:  Loss value: 0.07513941079378128 Validation Accuracy: 0.6349999904632568\n",
      "Epoch 10, CIFAR-10 Batch 1:  Loss value: 0.0552530400454998 Validation Accuracy: 0.6567999720573425\n",
      "Epoch 10, CIFAR-10 Batch 2:  Loss value: 0.05429564788937569 Validation Accuracy: 0.6326000094413757\n",
      "Epoch 10, CIFAR-10 Batch 3:  Loss value: 0.026199597865343094 Validation Accuracy: 0.6525999903678894\n",
      "Epoch 10, CIFAR-10 Batch 4:  Loss value: 0.03513786941766739 Validation Accuracy: 0.6538000106811523\n",
      "Epoch 10, CIFAR-10 Batch 5:  Loss value: 0.052125364542007446 Validation Accuracy: 0.6327999830245972\n",
      "Epoch 11, CIFAR-10 Batch 1:  Loss value: 0.03737913444638252 Validation Accuracy: 0.651199996471405\n",
      "Epoch 11, CIFAR-10 Batch 2:  Loss value: 0.026076922193169594 Validation Accuracy: 0.6363999843597412\n",
      "Epoch 11, CIFAR-10 Batch 3:  Loss value: 0.030231887474656105 Validation Accuracy: 0.6507999897003174\n",
      "Epoch 11, CIFAR-10 Batch 4:  Loss value: 0.03593471646308899 Validation Accuracy: 0.6460000276565552\n",
      "Epoch 11, CIFAR-10 Batch 5:  Loss value: 0.025285566225647926 Validation Accuracy: 0.656000018119812\n",
      "Epoch 12, CIFAR-10 Batch 1:  Loss value: 0.02100295200943947 Validation Accuracy: 0.6439999938011169\n",
      "Epoch 12, CIFAR-10 Batch 2:  Loss value: 0.030831104144454002 Validation Accuracy: 0.6453999876976013\n",
      "Epoch 12, CIFAR-10 Batch 3:  Loss value: 0.01930568553507328 Validation Accuracy: 0.6489999890327454\n",
      "Epoch 12, CIFAR-10 Batch 4:  Loss value: 0.051216281950473785 Validation Accuracy: 0.6259999871253967\n",
      "Epoch 12, CIFAR-10 Batch 5:  Loss value: 0.020258907228708267 Validation Accuracy: 0.6600000262260437\n",
      "Epoch 13, CIFAR-10 Batch 1:  Loss value: 0.016842488199472427 Validation Accuracy: 0.6620000004768372\n",
      "Epoch 13, CIFAR-10 Batch 2:  Loss value: 0.02474258467555046 Validation Accuracy: 0.6583999991416931\n",
      "Epoch 13, CIFAR-10 Batch 3:  Loss value: 0.018006302416324615 Validation Accuracy: 0.6601999998092651\n",
      "Epoch 13, CIFAR-10 Batch 4:  Loss value: 0.02281695045530796 Validation Accuracy: 0.6439999938011169\n",
      "Epoch 13, CIFAR-10 Batch 5:  Loss value: 0.013744533061981201 Validation Accuracy: 0.6398000121116638\n",
      "Epoch 14, CIFAR-10 Batch 1:  Loss value: 0.013333359733223915 Validation Accuracy: 0.6697999835014343\n",
      "Epoch 14, CIFAR-10 Batch 2:  Loss value: 0.007847475819289684 Validation Accuracy: 0.6510000228881836\n",
      "Epoch 14, CIFAR-10 Batch 3:  Loss value: 0.008169636130332947 Validation Accuracy: 0.6535999774932861\n",
      "Epoch 14, CIFAR-10 Batch 4:  Loss value: 0.012618931010365486 Validation Accuracy: 0.650600016117096\n",
      "Epoch 14, CIFAR-10 Batch 5:  Loss value: 0.010571626015007496 Validation Accuracy: 0.6244000196456909\n",
      "Epoch 15, CIFAR-10 Batch 1:  Loss value: 0.006922341883182526 Validation Accuracy: 0.6600000262260437\n",
      "Epoch 15, CIFAR-10 Batch 2:  Loss value: 0.011611598543822765 Validation Accuracy: 0.6254000067710876\n",
      "Epoch 15, CIFAR-10 Batch 3:  Loss value: 0.004395253956317902 Validation Accuracy: 0.6547999978065491\n",
      "Epoch 15, CIFAR-10 Batch 4:  Loss value: 0.013293914496898651 Validation Accuracy: 0.6417999863624573\n",
      "Epoch 15, CIFAR-10 Batch 5:  Loss value: 0.006315093487501144 Validation Accuracy: 0.6507999897003174\n",
      "Epoch 16, CIFAR-10 Batch 1:  Loss value: 0.018280643969774246 Validation Accuracy: 0.646399974822998\n",
      "Epoch 16, CIFAR-10 Batch 2:  Loss value: 0.0036808685399591923 Validation Accuracy: 0.6516000032424927\n",
      "Epoch 16, CIFAR-10 Batch 3:  Loss value: 0.006358779035508633 Validation Accuracy: 0.657800018787384\n",
      "Epoch 16, CIFAR-10 Batch 4:  Loss value: 0.006049309857189655 Validation Accuracy: 0.6470000147819519\n",
      "Epoch 16, CIFAR-10 Batch 5:  Loss value: 0.008566392585635185 Validation Accuracy: 0.6435999870300293\n",
      "Epoch 17, CIFAR-10 Batch 1:  Loss value: 0.008505186066031456 Validation Accuracy: 0.6561999917030334\n"
     ]
    },
    {
     "name": "stdout",
     "output_type": "stream",
     "text": [
      "Epoch 17, CIFAR-10 Batch 2:  Loss value: 0.006764193065464497 Validation Accuracy: 0.6496000289916992\n",
      "Epoch 17, CIFAR-10 Batch 3:  Loss value: 0.008321818895637989 Validation Accuracy: 0.6517999768257141\n",
      "Epoch 17, CIFAR-10 Batch 4:  Loss value: 0.006739722099155188 Validation Accuracy: 0.6362000107765198\n",
      "Epoch 17, CIFAR-10 Batch 5:  Loss value: 0.0072145177982747555 Validation Accuracy: 0.6603999733924866\n",
      "Epoch 18, CIFAR-10 Batch 1:  Loss value: 0.009007959626615047 Validation Accuracy: 0.652999997138977\n",
      "Epoch 18, CIFAR-10 Batch 2:  Loss value: 0.007886306382715702 Validation Accuracy: 0.63919997215271\n",
      "Epoch 18, CIFAR-10 Batch 3:  Loss value: 0.00539009552448988 Validation Accuracy: 0.6539999842643738\n",
      "Epoch 18, CIFAR-10 Batch 4:  Loss value: 0.010318998247385025 Validation Accuracy: 0.6362000107765198\n",
      "Epoch 18, CIFAR-10 Batch 5:  Loss value: 0.0026987805031239986 Validation Accuracy: 0.6636000275611877\n",
      "Epoch 19, CIFAR-10 Batch 1:  Loss value: 0.005234886892139912 Validation Accuracy: 0.6517999768257141\n",
      "Epoch 19, CIFAR-10 Batch 2:  Loss value: 0.0075343213975429535 Validation Accuracy: 0.6388000249862671\n",
      "Epoch 19, CIFAR-10 Batch 3:  Loss value: 0.0023175040259957314 Validation Accuracy: 0.6610000133514404\n",
      "Epoch 19, CIFAR-10 Batch 4:  Loss value: 0.005223636981099844 Validation Accuracy: 0.6388000249862671\n",
      "Epoch 19, CIFAR-10 Batch 5:  Loss value: 0.0012164907529950142 Validation Accuracy: 0.6567999720573425\n",
      "Epoch 20, CIFAR-10 Batch 1:  Loss value: 0.0039347014389932156 Validation Accuracy: 0.6471999883651733\n",
      "Epoch 20, CIFAR-10 Batch 2:  Loss value: 0.0023257515858858824 Validation Accuracy: 0.6557999849319458\n",
      "Epoch 20, CIFAR-10 Batch 3:  Loss value: 0.0020131352357566357 Validation Accuracy: 0.6575999855995178\n",
      "Epoch 20, CIFAR-10 Batch 4:  Loss value: 0.0053281597793102264 Validation Accuracy: 0.6420000195503235\n",
      "Epoch 20, CIFAR-10 Batch 5:  Loss value: 0.0009140633046627045 Validation Accuracy: 0.6628000140190125\n",
      "Epoch 21, CIFAR-10 Batch 1:  Loss value: 0.0027648531831800938 Validation Accuracy: 0.6359999775886536\n",
      "Epoch 21, CIFAR-10 Batch 2:  Loss value: 0.0019326094770804048 Validation Accuracy: 0.6425999999046326\n",
      "Epoch 21, CIFAR-10 Batch 3:  Loss value: 0.007688296493142843 Validation Accuracy: 0.6592000126838684\n",
      "Epoch 21, CIFAR-10 Batch 4:  Loss value: 0.007129265461117029 Validation Accuracy: 0.6424000263214111\n",
      "Epoch 21, CIFAR-10 Batch 5:  Loss value: 0.0008728988468647003 Validation Accuracy: 0.6686000227928162\n",
      "Epoch 22, CIFAR-10 Batch 1:  Loss value: 0.0019187632715329528 Validation Accuracy: 0.6620000004768372\n",
      "Epoch 22, CIFAR-10 Batch 2:  Loss value: 0.0009273570030927658 Validation Accuracy: 0.6484000086784363\n",
      "Epoch 22, CIFAR-10 Batch 3:  Loss value: 0.004981509875506163 Validation Accuracy: 0.656000018119812\n",
      "Epoch 22, CIFAR-10 Batch 4:  Loss value: 0.011526424437761307 Validation Accuracy: 0.6488000154495239\n",
      "Epoch 22, CIFAR-10 Batch 5:  Loss value: 0.002665036590769887 Validation Accuracy: 0.6488000154495239\n",
      "Epoch 23, CIFAR-10 Batch 1:  Loss value: 0.0007511575822718441 Validation Accuracy: 0.6629999876022339\n",
      "Epoch 23, CIFAR-10 Batch 2:  Loss value: 0.0013015924487262964 Validation Accuracy: 0.6601999998092651\n",
      "Epoch 23, CIFAR-10 Batch 3:  Loss value: 0.0036291524302214384 Validation Accuracy: 0.6575999855995178\n",
      "Epoch 23, CIFAR-10 Batch 4:  Loss value: 0.0026316686999052763 Validation Accuracy: 0.6449999809265137\n",
      "Epoch 23, CIFAR-10 Batch 5:  Loss value: 0.003994943108409643 Validation Accuracy: 0.652999997138977\n",
      "Epoch 24, CIFAR-10 Batch 1:  Loss value: 0.0018905677134171128 Validation Accuracy: 0.6669999957084656\n",
      "Epoch 24, CIFAR-10 Batch 2:  Loss value: 0.0007617458468303084 Validation Accuracy: 0.6543999910354614\n",
      "Epoch 24, CIFAR-10 Batch 3:  Loss value: 0.0014725337969139218 Validation Accuracy: 0.6579999923706055\n",
      "Epoch 24, CIFAR-10 Batch 4:  Loss value: 0.007343186531215906 Validation Accuracy: 0.6444000005722046\n",
      "Epoch 24, CIFAR-10 Batch 5:  Loss value: 0.0015933249378576875 Validation Accuracy: 0.6521999835968018\n",
      "Epoch 25, CIFAR-10 Batch 1:  Loss value: 0.0031761061400175095 Validation Accuracy: 0.6462000012397766\n",
      "Epoch 25, CIFAR-10 Batch 2:  Loss value: 0.00029274015105329454 Validation Accuracy: 0.6448000073432922\n",
      "Epoch 25, CIFAR-10 Batch 3:  Loss value: 0.0020820724312216043 Validation Accuracy: 0.6478000283241272\n",
      "Epoch 25, CIFAR-10 Batch 4:  Loss value: 0.001022529206238687 Validation Accuracy: 0.6535999774932861\n",
      "Epoch 25, CIFAR-10 Batch 5:  Loss value: 0.00109950453042984 Validation Accuracy: 0.652999997138977\n",
      "Epoch 26, CIFAR-10 Batch 1:  Loss value: 0.0005968520999886096 Validation Accuracy: 0.6589999794960022\n",
      "Epoch 26, CIFAR-10 Batch 2:  Loss value: 0.0007681379793211818 Validation Accuracy: 0.6556000113487244\n",
      "Epoch 26, CIFAR-10 Batch 3:  Loss value: 0.0008350573480129242 Validation Accuracy: 0.6615999937057495\n",
      "Epoch 26, CIFAR-10 Batch 4:  Loss value: 0.002207950223237276 Validation Accuracy: 0.6520000100135803\n",
      "Epoch 26, CIFAR-10 Batch 5:  Loss value: 0.0068870545364916325 Validation Accuracy: 0.645799994468689\n",
      "Epoch 27, CIFAR-10 Batch 1:  Loss value: 0.0007646178128197789 Validation Accuracy: 0.6488000154495239\n",
      "Epoch 27, CIFAR-10 Batch 2:  Loss value: 0.000308117363601923 Validation Accuracy: 0.6593999862670898\n",
      "Epoch 27, CIFAR-10 Batch 3:  Loss value: 0.0010186501313000917 Validation Accuracy: 0.6628000140190125\n",
      "Epoch 27, CIFAR-10 Batch 4:  Loss value: 0.003201960353180766 Validation Accuracy: 0.6583999991416931\n",
      "Epoch 27, CIFAR-10 Batch 5:  Loss value: 0.0027190193068236113 Validation Accuracy: 0.651199996471405\n",
      "Epoch 28, CIFAR-10 Batch 1:  Loss value: 0.004289451986551285 Validation Accuracy: 0.6565999984741211\n",
      "Epoch 28, CIFAR-10 Batch 2:  Loss value: 0.0007652321946807206 Validation Accuracy: 0.6517999768257141\n",
      "Epoch 28, CIFAR-10 Batch 3:  Loss value: 0.000907176814507693 Validation Accuracy: 0.6603999733924866\n",
      "Epoch 28, CIFAR-10 Batch 4:  Loss value: 0.0018801670521497726 Validation Accuracy: 0.6528000235557556\n",
      "Epoch 28, CIFAR-10 Batch 5:  Loss value: 0.006426546722650528 Validation Accuracy: 0.6507999897003174\n",
      "Epoch 29, CIFAR-10 Batch 1:  Loss value: 0.0004678865079768002 Validation Accuracy: 0.650600016117096\n",
      "Epoch 29, CIFAR-10 Batch 2:  Loss value: 0.0013488514814525843 Validation Accuracy: 0.652400016784668\n",
      "Epoch 29, CIFAR-10 Batch 3:  Loss value: 0.0001594886853126809 Validation Accuracy: 0.6665999889373779\n",
      "Epoch 29, CIFAR-10 Batch 4:  Loss value: 0.005438960622996092 Validation Accuracy: 0.6549999713897705\n",
      "Epoch 29, CIFAR-10 Batch 5:  Loss value: 0.0006457922281697392 Validation Accuracy: 0.656000018119812\n",
      "Epoch 30, CIFAR-10 Batch 1:  Loss value: 0.0013054019073024392 Validation Accuracy: 0.6539999842643738\n",
      "Epoch 30, CIFAR-10 Batch 2:  Loss value: 0.0005386600969359279 Validation Accuracy: 0.6481999754905701\n",
      "Epoch 30, CIFAR-10 Batch 3:  Loss value: 0.0005458275554701686 Validation Accuracy: 0.6629999876022339\n",
      "Epoch 30, CIFAR-10 Batch 4:  Loss value: 0.0013182092225179076 Validation Accuracy: 0.6565999984741211\n",
      "Epoch 30, CIFAR-10 Batch 5:  Loss value: 0.0010315695544704795 Validation Accuracy: 0.6575999855995178\n",
      "Epoch 31, CIFAR-10 Batch 1:  Loss value: 0.001554996706545353 Validation Accuracy: 0.6571999788284302\n",
      "Epoch 31, CIFAR-10 Batch 2:  Loss value: 0.0013163686962798238 Validation Accuracy: 0.65420001745224\n",
      "Epoch 31, CIFAR-10 Batch 3:  Loss value: 0.0008382499217987061 Validation Accuracy: 0.6543999910354614\n",
      "Epoch 31, CIFAR-10 Batch 4:  Loss value: 0.0011924803256988525 Validation Accuracy: 0.650600016117096\n",
      "Epoch 31, CIFAR-10 Batch 5:  Loss value: 0.000563306559342891 Validation Accuracy: 0.6610000133514404\n",
      "Epoch 32, CIFAR-10 Batch 1:  Loss value: 0.006903288420289755 Validation Accuracy: 0.6460000276565552\n",
      "Epoch 32, CIFAR-10 Batch 2:  Loss value: 0.0006643278757110238 Validation Accuracy: 0.6593999862670898\n",
      "Epoch 32, CIFAR-10 Batch 3:  Loss value: 0.00022127351257950068 Validation Accuracy: 0.6583999991416931\n",
      "Epoch 32, CIFAR-10 Batch 4:  Loss value: 0.0012628245167434216 Validation Accuracy: 0.6503999829292297\n",
      "Epoch 32, CIFAR-10 Batch 5:  Loss value: 0.0005739391781389713 Validation Accuracy: 0.647599995136261\n"
     ]
    },
    {
     "name": "stdout",
     "output_type": "stream",
     "text": [
      "Epoch 33, CIFAR-10 Batch 1:  Loss value: 0.0005438221851363778 Validation Accuracy: 0.6525999903678894\n",
      "Epoch 33, CIFAR-10 Batch 2:  Loss value: 0.000654832343570888 Validation Accuracy: 0.657800018787384\n",
      "Epoch 33, CIFAR-10 Batch 3:  Loss value: 0.000428121245931834 Validation Accuracy: 0.6614000201225281\n",
      "Epoch 33, CIFAR-10 Batch 4:  Loss value: 0.0007465122034773231 Validation Accuracy: 0.6366000175476074\n",
      "Epoch 33, CIFAR-10 Batch 5:  Loss value: 0.0006622535292990506 Validation Accuracy: 0.656000018119812\n",
      "Epoch 34, CIFAR-10 Batch 1:  Loss value: 0.00025539036141708493 Validation Accuracy: 0.6593999862670898\n",
      "Epoch 34, CIFAR-10 Batch 2:  Loss value: 0.00154176726937294 Validation Accuracy: 0.6574000120162964\n",
      "Epoch 34, CIFAR-10 Batch 3:  Loss value: 0.0002502815914340317 Validation Accuracy: 0.657800018787384\n",
      "Epoch 34, CIFAR-10 Batch 4:  Loss value: 0.0006306481664068997 Validation Accuracy: 0.6499999761581421\n",
      "Epoch 34, CIFAR-10 Batch 5:  Loss value: 0.00040490104584023356 Validation Accuracy: 0.6654000282287598\n",
      "Epoch 35, CIFAR-10 Batch 1:  Loss value: 0.0013937976909801364 Validation Accuracy: 0.6424000263214111\n",
      "Epoch 35, CIFAR-10 Batch 2:  Loss value: 0.0005399602232500911 Validation Accuracy: 0.6438000202178955\n",
      "Epoch 35, CIFAR-10 Batch 3:  Loss value: 0.00016910785052459687 Validation Accuracy: 0.6546000242233276\n",
      "Epoch 35, CIFAR-10 Batch 4:  Loss value: 0.0044880034402012825 Validation Accuracy: 0.6467999815940857\n",
      "Epoch 35, CIFAR-10 Batch 5:  Loss value: 0.00045665743527933955 Validation Accuracy: 0.6574000120162964\n",
      "Epoch 36, CIFAR-10 Batch 1:  Loss value: 0.005538513418287039 Validation Accuracy: 0.6484000086784363\n",
      "Epoch 36, CIFAR-10 Batch 2:  Loss value: 0.003402458503842354 Validation Accuracy: 0.652400016784668\n",
      "Epoch 36, CIFAR-10 Batch 3:  Loss value: 0.0014817094197496772 Validation Accuracy: 0.652400016784668\n",
      "Epoch 36, CIFAR-10 Batch 4:  Loss value: 0.0003852666704915464 Validation Accuracy: 0.6438000202178955\n",
      "Epoch 36, CIFAR-10 Batch 5:  Loss value: 0.0006921053281985223 Validation Accuracy: 0.6553999781608582\n",
      "Epoch 37, CIFAR-10 Batch 1:  Loss value: 0.002841751556843519 Validation Accuracy: 0.6502000093460083\n",
      "Epoch 37, CIFAR-10 Batch 2:  Loss value: 0.002720276126638055 Validation Accuracy: 0.6467999815940857\n",
      "Epoch 37, CIFAR-10 Batch 3:  Loss value: 0.00029444461688399315 Validation Accuracy: 0.6639999747276306\n",
      "Epoch 37, CIFAR-10 Batch 4:  Loss value: 0.0011385815450921655 Validation Accuracy: 0.6435999870300293\n",
      "Epoch 37, CIFAR-10 Batch 5:  Loss value: 0.0005653424886986613 Validation Accuracy: 0.6564000248908997\n",
      "Epoch 38, CIFAR-10 Batch 1:  Loss value: 0.00015371257904917002 Validation Accuracy: 0.6528000235557556\n",
      "Epoch 38, CIFAR-10 Batch 2:  Loss value: 0.0007477107574231923 Validation Accuracy: 0.6603999733924866\n",
      "Epoch 38, CIFAR-10 Batch 3:  Loss value: 0.00031471953843720257 Validation Accuracy: 0.6606000065803528\n",
      "Epoch 38, CIFAR-10 Batch 4:  Loss value: 0.0009684251854196191 Validation Accuracy: 0.6453999876976013\n",
      "Epoch 38, CIFAR-10 Batch 5:  Loss value: 0.0004347891954239458 Validation Accuracy: 0.6496000289916992\n",
      "Epoch 39, CIFAR-10 Batch 1:  Loss value: 0.00031611742451786995 Validation Accuracy: 0.6546000242233276\n",
      "Epoch 39, CIFAR-10 Batch 2:  Loss value: 0.00015098122821655124 Validation Accuracy: 0.6502000093460083\n",
      "Epoch 39, CIFAR-10 Batch 3:  Loss value: 9.984064672607929e-05 Validation Accuracy: 0.6611999869346619\n",
      "Epoch 39, CIFAR-10 Batch 4:  Loss value: 0.007375975139439106 Validation Accuracy: 0.6471999883651733\n",
      "Epoch 39, CIFAR-10 Batch 5:  Loss value: 0.009708957746624947 Validation Accuracy: 0.6425999999046326\n",
      "Epoch 40, CIFAR-10 Batch 1:  Loss value: 0.0007743037422187626 Validation Accuracy: 0.6567999720573425\n",
      "Epoch 40, CIFAR-10 Batch 2:  Loss value: 0.0014045319985598326 Validation Accuracy: 0.6425999999046326\n",
      "Epoch 40, CIFAR-10 Batch 3:  Loss value: 0.0004194862558506429 Validation Accuracy: 0.6575999855995178\n",
      "Epoch 40, CIFAR-10 Batch 4:  Loss value: 0.0003376443055458367 Validation Accuracy: 0.6607999801635742\n",
      "Epoch 40, CIFAR-10 Batch 5:  Loss value: 0.0009233705932274461 Validation Accuracy: 0.6435999870300293\n",
      "Epoch 41, CIFAR-10 Batch 1:  Loss value: 0.0007431523990817368 Validation Accuracy: 0.6492000222206116\n",
      "Epoch 41, CIFAR-10 Batch 2:  Loss value: 0.00011725869262591004 Validation Accuracy: 0.6556000113487244\n",
      "Epoch 41, CIFAR-10 Batch 3:  Loss value: 9.580868209013715e-05 Validation Accuracy: 0.6636000275611877\n",
      "Epoch 41, CIFAR-10 Batch 4:  Loss value: 0.003082514042034745 Validation Accuracy: 0.6442000269889832\n",
      "Epoch 41, CIFAR-10 Batch 5:  Loss value: 0.0012665638932958245 Validation Accuracy: 0.6557999849319458\n",
      "Epoch 42, CIFAR-10 Batch 1:  Loss value: 0.00025581492809578776 Validation Accuracy: 0.649399995803833\n",
      "Epoch 42, CIFAR-10 Batch 2:  Loss value: 5.2889408834744245e-05 Validation Accuracy: 0.6480000019073486\n",
      "Epoch 42, CIFAR-10 Batch 3:  Loss value: 0.0008171824738383293 Validation Accuracy: 0.6585999727249146\n",
      "Epoch 42, CIFAR-10 Batch 4:  Loss value: 0.00025675195502117276 Validation Accuracy: 0.6442000269889832\n",
      "Epoch 42, CIFAR-10 Batch 5:  Loss value: 0.0007177504012361169 Validation Accuracy: 0.6420000195503235\n",
      "Epoch 43, CIFAR-10 Batch 1:  Loss value: 0.00013054345618002117 Validation Accuracy: 0.6565999984741211\n",
      "Epoch 43, CIFAR-10 Batch 2:  Loss value: 3.916434434358962e-05 Validation Accuracy: 0.6539999842643738\n",
      "Epoch 43, CIFAR-10 Batch 3:  Loss value: 0.0001639559050090611 Validation Accuracy: 0.6570000052452087\n",
      "Epoch 43, CIFAR-10 Batch 4:  Loss value: 0.0003515274147503078 Validation Accuracy: 0.6474000215530396\n",
      "Epoch 43, CIFAR-10 Batch 5:  Loss value: 0.00011715006257873029 Validation Accuracy: 0.6492000222206116\n",
      "Epoch 44, CIFAR-10 Batch 1:  Loss value: 0.00017049578309524804 Validation Accuracy: 0.647599995136261\n",
      "Epoch 44, CIFAR-10 Batch 2:  Loss value: 0.00026270077796652913 Validation Accuracy: 0.6478000283241272\n",
      "Epoch 44, CIFAR-10 Batch 3:  Loss value: 0.00013817248691339046 Validation Accuracy: 0.657800018787384\n",
      "Epoch 44, CIFAR-10 Batch 4:  Loss value: 0.0007017083116807044 Validation Accuracy: 0.6556000113487244\n",
      "Epoch 44, CIFAR-10 Batch 5:  Loss value: 0.0012732645263895392 Validation Accuracy: 0.6547999978065491\n",
      "Epoch 45, CIFAR-10 Batch 1:  Loss value: 0.0005429729935713112 Validation Accuracy: 0.6507999897003174\n",
      "Epoch 45, CIFAR-10 Batch 2:  Loss value: 6.802735151723027e-05 Validation Accuracy: 0.6484000086784363\n",
      "Epoch 45, CIFAR-10 Batch 3:  Loss value: 0.00036988244391977787 Validation Accuracy: 0.6556000113487244\n",
      "Epoch 45, CIFAR-10 Batch 4:  Loss value: 0.0001565350394230336 Validation Accuracy: 0.6547999978065491\n",
      "Epoch 45, CIFAR-10 Batch 5:  Loss value: 0.0017435976769775152 Validation Accuracy: 0.6636000275611877\n",
      "Epoch 46, CIFAR-10 Batch 1:  Loss value: 0.00030260224593803287 Validation Accuracy: 0.6516000032424927\n",
      "Epoch 46, CIFAR-10 Batch 2:  Loss value: 0.00033376942155882716 Validation Accuracy: 0.6467999815940857\n",
      "Epoch 46, CIFAR-10 Batch 3:  Loss value: 0.0016875725705176592 Validation Accuracy: 0.6624000072479248\n",
      "Epoch 46, CIFAR-10 Batch 4:  Loss value: 0.00022303145669866353 Validation Accuracy: 0.6557999849319458\n",
      "Epoch 46, CIFAR-10 Batch 5:  Loss value: 0.0007182358531281352 Validation Accuracy: 0.6402000188827515\n",
      "Epoch 47, CIFAR-10 Batch 1:  Loss value: 0.00032568007009103894 Validation Accuracy: 0.6611999869346619\n",
      "Epoch 47, CIFAR-10 Batch 2:  Loss value: 0.0013961632503196597 Validation Accuracy: 0.6499999761581421\n",
      "Epoch 47, CIFAR-10 Batch 3:  Loss value: 0.0009658772614784539 Validation Accuracy: 0.6460000276565552\n",
      "Epoch 47, CIFAR-10 Batch 4:  Loss value: 0.00017401925288140774 Validation Accuracy: 0.6534000039100647\n",
      "Epoch 47, CIFAR-10 Batch 5:  Loss value: 0.007658347487449646 Validation Accuracy: 0.6556000113487244\n",
      "Epoch 48, CIFAR-10 Batch 1:  Loss value: 0.00013636393123306334 Validation Accuracy: 0.6520000100135803\n",
      "Epoch 48, CIFAR-10 Batch 2:  Loss value: 4.626716690836474e-05 Validation Accuracy: 0.6488000154495239\n",
      "Epoch 48, CIFAR-10 Batch 3:  Loss value: 0.0002373394527239725 Validation Accuracy: 0.6686000227928162\n",
      "Epoch 48, CIFAR-10 Batch 4:  Loss value: 9.260598017135635e-05 Validation Accuracy: 0.6538000106811523\n"
     ]
    },
    {
     "name": "stdout",
     "output_type": "stream",
     "text": [
      "Epoch 48, CIFAR-10 Batch 5:  Loss value: 0.00020585194579325616 Validation Accuracy: 0.6498000025749207\n",
      "Epoch 49, CIFAR-10 Batch 1:  Loss value: 0.0012036883272230625 Validation Accuracy: 0.6547999978065491\n",
      "Epoch 49, CIFAR-10 Batch 2:  Loss value: 3.2005231332732365e-05 Validation Accuracy: 0.6474000215530396\n",
      "Epoch 49, CIFAR-10 Batch 3:  Loss value: 0.000541271991096437 Validation Accuracy: 0.6520000100135803\n",
      "Epoch 49, CIFAR-10 Batch 4:  Loss value: 4.7653338697273284e-05 Validation Accuracy: 0.6488000154495239\n",
      "Epoch 49, CIFAR-10 Batch 5:  Loss value: 0.0003142798668704927 Validation Accuracy: 0.6448000073432922\n",
      "Epoch 50, CIFAR-10 Batch 1:  Loss value: 0.0001245165040018037 Validation Accuracy: 0.6553999781608582\n",
      "Epoch 50, CIFAR-10 Batch 2:  Loss value: 6.45853069727309e-05 Validation Accuracy: 0.6549999713897705\n",
      "Epoch 50, CIFAR-10 Batch 3:  Loss value: 0.0001532155874883756 Validation Accuracy: 0.656000018119812\n",
      "Epoch 50, CIFAR-10 Batch 4:  Loss value: 0.0003765797009691596 Validation Accuracy: 0.6557999849319458\n",
      "Epoch 50, CIFAR-10 Batch 5:  Loss value: 0.00017889318405650556 Validation Accuracy: 0.6543999910354614\n"
     ]
    }
   ],
   "source": [
    "\"\"\"\n",
    "DON'T MODIFY ANYTHING IN THIS CELL\n",
    "\"\"\"\n",
    "save_model_path = './image_classification'\n",
    "\n",
    "print('Training...')\n",
    "with tf.Session() as sess:\n",
    "    # Initializing the variables\n",
    "    sess.run(tf.global_variables_initializer())\n",
    "    \n",
    "    # Training cycle\n",
    "    for epoch in range(epochs):\n",
    "        # Loop over all batches\n",
    "        n_batches = 5\n",
    "        for batch_i in range(1, n_batches + 1):\n",
    "            for batch_features, batch_labels in helper.load_preprocess_training_batch(batch_i, batch_size):\n",
    "                train_neural_network(sess, optimizer, keep_probability, batch_features, batch_labels)\n",
    "            print('Epoch {:>2}, CIFAR-10 Batch {}:  '.format(epoch + 1, batch_i), end='')\n",
    "            print_stats(sess, batch_features, batch_labels, cost, accuracy)\n",
    "            \n",
    "    # Save Model\n",
    "    saver = tf.train.Saver()\n",
    "    save_path = saver.save(sess, save_model_path)"
   ]
  },
  {
   "cell_type": "markdown",
   "metadata": {},
   "source": [
    "# Checkpoint\n",
    "The model has been saved to disk.\n",
    "## Test Model\n",
    "Test your model against the test dataset.  This will be your final accuracy. You should have an accuracy greater than 50%. If you don't, keep tweaking the model architecture and parameters."
   ]
  },
  {
   "cell_type": "code",
   "execution_count": 20,
   "metadata": {},
   "outputs": [
    {
     "name": "stdout",
     "output_type": "stream",
     "text": [
      "INFO:tensorflow:Restoring parameters from ./image_classification\n",
      "Testing Accuracy: 0.6505142405063291\n",
      "\n"
     ]
    },
    {
     "data": {
      "image/png": "[encoded data removed]",
      "text/plain": [
       "<matplotlib.figure.Figure at 0x20e033d12b0>"
      ]
     },
     "metadata": {
      "image/png": {
       "height": 319,
       "width": 355
      }
     },
     "output_type": "display_data"
    }
   ],
   "source": [
    "\"\"\"\n",
    "DON'T MODIFY ANYTHING IN THIS CELL\n",
    "\"\"\"\n",
    "%matplotlib inline\n",
    "%config InlineBackend.figure_format = 'retina'\n",
    "\n",
    "import tensorflow as tf\n",
    "import pickle\n",
    "import helper\n",
    "import random\n",
    "\n",
    "# Set batch size if not already set\n",
    "try:\n",
    "    if batch_size:\n",
    "        pass\n",
    "except NameError:\n",
    "    batch_size = 64\n",
    "\n",
    "save_model_path = './image_classification'\n",
    "n_samples = 4\n",
    "top_n_predictions = 3\n",
    "\n",
    "def test_model():\n",
    "    \"\"\"\n",
    "    Test the saved model against the test dataset\n",
    "    \"\"\"\n",
    "\n",
    "    test_features, test_labels = pickle.load(open('preprocess_test.p', mode='rb'))\n",
    "    loaded_graph = tf.Graph()\n",
    "\n",
    "    with tf.Session(graph=loaded_graph) as sess:\n",
    "        # Load model\n",
    "        loader = tf.train.import_meta_graph(save_model_path + '.meta')\n",
    "        loader.restore(sess, save_model_path)\n",
    "\n",
    "        # Get Tensors from loaded model\n",
    "        loaded_x = loaded_graph.get_tensor_by_name('x:0')\n",
    "        loaded_y = loaded_graph.get_tensor_by_name('y:0')\n",
    "        loaded_keep_prob = loaded_graph.get_tensor_by_name('keep_prob:0')\n",
    "        loaded_logits = loaded_graph.get_tensor_by_name('logits:0')\n",
    "        loaded_acc = loaded_graph.get_tensor_by_name('accuracy:0')\n",
    "        \n",
    "        # Get accuracy in batches for memory limitations\n",
    "        test_batch_acc_total = 0\n",
    "        test_batch_count = 0\n",
    "        \n",
    "        for test_feature_batch, test_label_batch in helper.batch_features_labels(test_features, test_labels, batch_size):\n",
    "            test_batch_acc_total += sess.run(\n",
    "                loaded_acc,\n",
    "                feed_dict={loaded_x: test_feature_batch, loaded_y: test_label_batch, loaded_keep_prob: 1.0})\n",
    "            test_batch_count += 1\n",
    "\n",
    "        print('Testing Accuracy: {}\\n'.format(test_batch_acc_total/test_batch_count))\n",
    "\n",
    "        # Print Random Samples\n",
    "        random_test_features, random_test_labels = tuple(zip(*random.sample(list(zip(test_features, test_labels)), n_samples)))\n",
    "        random_test_predictions = sess.run(\n",
    "            tf.nn.top_k(tf.nn.softmax(loaded_logits), top_n_predictions),\n",
    "            feed_dict={loaded_x: random_test_features, loaded_y: random_test_labels, loaded_keep_prob: 1.0})\n",
    "        helper.display_image_predictions(random_test_features, random_test_labels, random_test_predictions)\n",
    "\n",
    "\n",
    "test_model()"
   ]
  },
  {
   "cell_type": "markdown",
   "metadata": {},
   "source": [
    "## Why 50-80% Accuracy?\n",
    "You might be wondering why you can't get an accuracy any higher. First things first, 50% isn't bad for a simple CNN.  Pure guessing would get you 10% accuracy. However, you might notice people are getting scores [well above 80%](http://rodrigob.github.io/are_we_there_yet/build/classification_datasets_results.html#43494641522d3130).  That's because we haven't taught you all there is to know about neural networks. We still need to cover a few more techniques.\n",
    "## Submitting This Project\n",
    "When submitting this project, make sure to run all the cells before saving the notebook.  Save the notebook file as \"dlnd_image_classification.ipynb\" and save it as a HTML file under \"File\" -> \"Download as\".  Include the \"helper.py\" and \"problem_unittests.py\" files in your submission."
   ]
  },
  {
   "cell_type": "code",
   "execution_count": null,
   "metadata": {},
   "outputs": [],
   "source": []
  }
 ],
 "metadata": {
  "kernelspec": {
   "display_name": "Python 3",
   "language": "python",
   "name": "python3"
  },
  "language_info": {
   "codemirror_mode": {
    "name": "ipython",
    "version": 3
   },
   "file_extension": ".py",
   "mimetype": "text/x-python",
   "name": "python",
   "nbconvert_exporter": "python",
   "pygments_lexer": "ipython3",
   "version": "3.6.3"
  }
 },
 "nbformat": 4,
 "nbformat_minor": 1
}
